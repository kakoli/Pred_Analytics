{
 "cells": [
  {
   "cell_type": "markdown",
   "metadata": {},
   "source": [
    "### Epf filing compliance score\n",
    "info.json has epf transactions as well as employee names across months for a party. <br>\n",
    "Normally, EPF filing is to be done by the end of the next month of the wage month. Else, it is considered non-compliant.\n",
    "\n",
    "Hence we take the gap between salary month and epf filing date"
   ]
  },
  {
   "cell_type": "code",
   "execution_count": 1,
   "metadata": {},
   "outputs": [],
   "source": [
    "import numpy as np\n",
    "import pandas as pd\n",
    "import json\n",
    "from pandas.io.json import json_normalize\n",
    "\n",
    "pd.options.display.max_columns = None\n",
    "#pd.set_option('display.max_columns', 50)"
   ]
  },
  {
   "cell_type": "markdown",
   "metadata": {},
   "source": [
    "#### Reading the 3 json files into dataframe"
   ]
  },
  {
   "cell_type": "code",
   "execution_count": 2,
   "metadata": {},
   "outputs": [
    {
     "name": "stdout",
     "output_type": "stream",
     "text": [
      "Party (14804, 162)\n",
      "Registrations (15000, 48)\n",
      "Informations (148259, 25)\n"
     ]
    }
   ],
   "source": [
    "# deser. from json to python data structure (here, list of dict)\n",
    "lines = [json.loads(line) for line in open('./data/parties.json', 'r', encoding='utf8')]\n",
    "party_df = json_normalize(lines)\n",
    "print(\"Party\", party_df.shape)\n",
    "\n",
    "lines = [json.loads(line) for line in open('./data/registrations.json', 'r', encoding='utf8')]\n",
    "reg_df = json_normalize(lines)\n",
    "print(\"Registrations\", reg_df.shape)\n",
    "\n",
    "lines = [json.loads(line) for line in open('./data/information.json', 'r', encoding='utf8')]\n",
    "info_df = json_normalize(lines)\n",
    "print(\"Informations\", info_df.shape)"
   ]
  },
  {
   "cell_type": "markdown",
   "metadata": {},
   "source": [
    "#### Merging of reg and info data  based on reg_id and info_id"
   ]
  },
  {
   "cell_type": "code",
   "execution_count": 3,
   "metadata": {},
   "outputs": [
    {
     "name": "stdout",
     "output_type": "stream",
     "text": [
      "Merged datframe (157229, 73)\n",
      "Merged columns Index(['_type', '_ref', '_model_type', 'normalized_name', 'aliases',\n",
      "       'has_anomaly', 'acc', 'city', 'country', 'epfo_office',\n",
      "       'epfo_office_address', 'pin_code', 'primary_business_activity', 'ro',\n",
      "       'section_applicable', 'state', 'version', 'name', 'nationality',\n",
      "       '_id.$oid', 'updated_at.$date', 'party_id.$oid', 'sources.in_gov_epf',\n",
      "       'bots.in_gov_epf_epf_excel_search', 'bots.in_gov_epf_epf_blob_search',\n",
      "       'anomalies', 'status', 'old_party_id.$oid', 'sources.in_gov_mca',\n",
      "       'bots.in_src_woi_woi_search', 'bots.in_gov_mca_upload_documents',\n",
      "       'cia_party', 'bots.in_gov_nsdl_full_refresh', 'exemption_status',\n",
      "       'working_status', 'coverage_section', 'actionable_status',\n",
      "       'date_of_coverage', 'bots.in_gov_rbi_ecb_full_refresh', 'yes_bank',\n",
      "       'district', 'rbl', 'bots.in_gov_gstn_gstn_search', 'sources.in_src_woi',\n",
      "       'bots.in_gov_mca_company_documents', 'sources.in_gov_nsdl', 'party_id',\n",
      "       'created_at.$date', '_ref_y', '_model_type_y', 'has_anomaly_y',\n",
      "       'number', 'credit_date', 'amount', 'wage_month', 'no_of_employees',\n",
      "       'ecr', 'employee_blob', 'reg_ref', '_id.$oid_y', 'registration_id.$oid',\n",
      "       'updated_at.$date_y', 'created_at.$date_y', 'party_id.$oid_y',\n",
      "       'sources.in_gov_epf_y', 'bots.in_gov_epf_epf_excel_search_y',\n",
      "       'bots.in_gov_epf_epf_blob_search_y', 'passbook', 'cia_party_y',\n",
      "       'party_id_y', 'yes_bank_y', 'rbl_y', 'anomalies_y'],\n",
      "      dtype='object')\n"
     ]
    }
   ],
   "source": [
    "#reg_info_df = pd.merge(reg_df, info_df, how='outer', left_on=['party_id.$oid', '_id.$oid'], right_on=['party_id.$oid', 'registration_id.$oid'], suffixes=('','_y'))\n",
    "reg_info_df = pd.merge(reg_df, info_df, how='outer', left_on='_id.$oid', right_on='registration_id.$oid', suffixes=('','_y'))\n",
    "\n",
    "print(\"Merged datframe\", reg_info_df.shape)\n",
    "print(\"Merged columns\", reg_info_df.columns)"
   ]
  },
  {
   "cell_type": "markdown",
   "metadata": {},
   "source": [
    "#### Select columns for epf filing"
   ]
  },
  {
   "cell_type": "code",
   "execution_count": 4,
   "metadata": {
    "scrolled": true
   },
   "outputs": [
    {
     "name": "stdout",
     "output_type": "stream",
     "text": [
      "Merged datframe with selected columns (148259, 3) Index(['party_id', 'wage_month', 'credit_date'], dtype='object')\n"
     ]
    }
   ],
   "source": [
    "cols_to_keep = ['party_id.$oid', 'wage_month', 'credit_date']\n",
    "epf_df = reg_info_df.filter(cols_to_keep, axis=1)\n",
    "\n",
    "epf_df.rename(columns = {'party_id.$oid':'party_id'}, inplace = True) \n",
    "# 5.7% data was missing\n",
    "epf_df.dropna(subset=['credit_date', 'wage_month'], inplace=True)\n",
    "print(\"Merged datframe with selected columns\", epf_df.shape, epf_df.columns)"
   ]
  },
  {
   "cell_type": "code",
   "execution_count": 5,
   "metadata": {
    "scrolled": true
   },
   "outputs": [],
   "source": [
    "from datetime import datetime\n",
    "\n",
    "def format_convert_col(str_list):\n",
    "    dates = []\n",
    "    \n",
    "    for s in str_list:\n",
    "        if s.find('-') != -1:\n",
    "            d = datetime.strptime(s, '%b-%y') # NOV-17\n",
    "            #print(\"if\", d)\n",
    "        else:\n",
    "            d = datetime.strptime(s, '%m%Y') # 052016\n",
    "            #print(\"else\", d)\n",
    "        dates.append(d)\n",
    "    return dates\n",
    "\n",
    "def format_convert_col2(str_list):\n",
    "    dates = []\n",
    "    \n",
    "    for s in str_list:\n",
    "        if s.find(':') != -1:\n",
    "            s = s.split()[0]\n",
    "            # check for letters in s\n",
    "            if any(c.isalpha() for c in s) :\n",
    "                d = datetime.strptime(s, '%d-%b-%Y') # 26-AUG-2017 05:54:35      \n",
    "            else :\n",
    "                d = datetime.strptime(s, '%Y-%m-%d') #2016-05-26 00:00:00 UTC\n",
    "        else:\n",
    "            d = datetime.strptime(s, '%Y-%m-%d') # 2018-01-25    \n",
    "        dates.append(d)        \n",
    "    return dates\n",
    "\n",
    "#dList = format_convert_col2(epf_df['credit_date'].tolist())"
   ]
  },
  {
   "cell_type": "markdown",
   "metadata": {},
   "source": [
    "#### Converting columns 'wage_month', credit_date of diff. formats to a common format of type datetime.datetime"
   ]
  },
  {
   "cell_type": "code",
   "execution_count": 6,
   "metadata": {},
   "outputs": [],
   "source": [
    "wageDates = format_convert_col( epf_df['wage_month'].tolist() )\n",
    "epfDates = format_convert_col2( epf_df['credit_date'].tolist() )\n",
    "\n",
    "epf_df['wage_date'] = wageDates\n",
    "epf_df['epf_date'] = epfDates\n",
    "epf_df.drop(['wage_month'], axis=1, inplace=True)\n",
    "epf_df.drop(['credit_date'], axis=1, inplace=True)"
   ]
  },
  {
   "cell_type": "markdown",
   "metadata": {},
   "source": [
    "- <b>Sort on some columns\n",
    "- Set index </b>\n",
    "Can be run once"
   ]
  },
  {
   "cell_type": "code",
   "execution_count": 7,
   "metadata": {
    "scrolled": true
   },
   "outputs": [
    {
     "name": "stdout",
     "output_type": "stream",
     "text": [
      "INDEX ['party_id', 'wage_date']\n",
      "Index(['epf_date'], dtype='object')\n"
     ]
    },
    {
     "data": {
      "text/html": [
       "<div>\n",
       "<style scoped>\n",
       "    .dataframe tbody tr th:only-of-type {\n",
       "        vertical-align: middle;\n",
       "    }\n",
       "\n",
       "    .dataframe tbody tr th {\n",
       "        vertical-align: top;\n",
       "    }\n",
       "\n",
       "    .dataframe thead th {\n",
       "        text-align: right;\n",
       "    }\n",
       "</style>\n",
       "<table border=\"1\" class=\"dataframe\">\n",
       "  <thead>\n",
       "    <tr style=\"text-align: right;\">\n",
       "      <th></th>\n",
       "      <th></th>\n",
       "      <th>epf_date</th>\n",
       "    </tr>\n",
       "    <tr>\n",
       "      <th>party_id</th>\n",
       "      <th>wage_date</th>\n",
       "      <th></th>\n",
       "    </tr>\n",
       "  </thead>\n",
       "  <tbody>\n",
       "    <tr>\n",
       "      <th rowspan=\"2\" valign=\"top\">5559286e6d6f6f270e4f6d05</th>\n",
       "      <th>2016-12-01</th>\n",
       "      <td>2017-01-20</td>\n",
       "    </tr>\n",
       "    <tr>\n",
       "      <th>2016-12-01</th>\n",
       "      <td>2017-01-20</td>\n",
       "    </tr>\n",
       "  </tbody>\n",
       "</table>\n",
       "</div>"
      ],
      "text/plain": [
       "                                      epf_date\n",
       "party_id                 wage_date            \n",
       "5559286e6d6f6f270e4f6d05 2016-12-01 2017-01-20\n",
       "                         2016-12-01 2017-01-20"
      ]
     },
     "execution_count": 7,
     "metadata": {},
     "output_type": "execute_result"
    }
   ],
   "source": [
    "epf_df.sort_values(by=['party_id', 'wage_date'], inplace=True)\n",
    "epf_df.set_index(['party_id', 'wage_date'], inplace=True)\n",
    "\n",
    "print(\"INDEX\", epf_df.index.names)\n",
    "print(epf_df.columns)\n",
    "\n",
    "#epf_df.to_csv(\"epf.csv\")\n",
    "epf_df.loc['5559286e6d6f6f270e4f6d05', '2016-12-01']"
   ]
  },
  {
   "cell_type": "markdown",
   "metadata": {},
   "source": [
    "#### Epf filing on monthly basis\n",
    "There are multiple entries for a (party, wage_date), as seen above"
   ]
  },
  {
   "cell_type": "code",
   "execution_count": 8,
   "metadata": {},
   "outputs": [
    {
     "name": "stdout",
     "output_type": "stream",
     "text": [
      "['party_id', 'wage_date'] (111584,)\n"
     ]
    },
    {
     "data": {
      "text/plain": [
       "Timestamp('2017-01-20 00:00:00')"
      ]
     },
     "execution_count": 8,
     "metadata": {},
     "output_type": "execute_result"
    }
   ],
   "source": [
    "# aggSeries of type Series of size 111584, reduced from 148259\n",
    "aggSeries = epf_df.groupby(by = ['party_id', 'wage_date'])['epf_date'].agg('first')\n",
    "print(aggSeries.index.names, aggSeries.shape)\n",
    "\n",
    "aggSeries.loc['5559286e6d6f6f270e4f6d05', '2016-12-01']"
   ]
  },
  {
   "cell_type": "markdown",
   "metadata": {},
   "source": [
    "#### aggSeries converted to dataframe without index"
   ]
  },
  {
   "cell_type": "code",
   "execution_count": 9,
   "metadata": {
    "scrolled": true
   },
   "outputs": [
    {
     "name": "stdout",
     "output_type": "stream",
     "text": [
      "(111584, 3) [None]\n",
      "Index(['party_id', 'wage_date', 'epf_date'], dtype='object')\n"
     ]
    }
   ],
   "source": [
    "epf_agg_df = aggSeries.to_frame()\n",
    "epf_agg_df.reset_index(inplace=True)\n",
    "\n",
    "print(epf_agg_df.shape, epf_agg_df.index.names)\n",
    "print( epf_agg_df.columns)\n",
    "epf_agg_df.to_csv(\"epf_agg.csv\")"
   ]
  },
  {
   "cell_type": "markdown",
   "metadata": {},
   "source": [
    "#### Computation of aggregate values"
   ]
  },
  {
   "cell_type": "code",
   "execution_count": 10,
   "metadata": {},
   "outputs": [
    {
     "data": {
      "text/html": [
       "<div>\n",
       "<style scoped>\n",
       "    .dataframe tbody tr th:only-of-type {\n",
       "        vertical-align: middle;\n",
       "    }\n",
       "\n",
       "    .dataframe tbody tr th {\n",
       "        vertical-align: top;\n",
       "    }\n",
       "\n",
       "    .dataframe thead th {\n",
       "        text-align: right;\n",
       "    }\n",
       "</style>\n",
       "<table border=\"1\" class=\"dataframe\">\n",
       "  <thead>\n",
       "    <tr style=\"text-align: right;\">\n",
       "      <th></th>\n",
       "      <th>party_id</th>\n",
       "      <th>wage_date</th>\n",
       "      <th>epf_date</th>\n",
       "      <th>time_gap</th>\n",
       "    </tr>\n",
       "  </thead>\n",
       "  <tbody>\n",
       "    <tr>\n",
       "      <th>0</th>\n",
       "      <td>54f079716d6f6f6a52582a00</td>\n",
       "      <td>2016-10-01</td>\n",
       "      <td>2017-02-14</td>\n",
       "      <td>106</td>\n",
       "    </tr>\n",
       "    <tr>\n",
       "      <th>1</th>\n",
       "      <td>54f079716d6f6f6a52582a00</td>\n",
       "      <td>2016-11-01</td>\n",
       "      <td>2017-02-14</td>\n",
       "      <td>75</td>\n",
       "    </tr>\n",
       "    <tr>\n",
       "      <th>2</th>\n",
       "      <td>54f079716d6f6f6a52582a00</td>\n",
       "      <td>2016-12-01</td>\n",
       "      <td>2017-02-14</td>\n",
       "      <td>45</td>\n",
       "    </tr>\n",
       "    <tr>\n",
       "      <th>3</th>\n",
       "      <td>54f079716d6f6f6a52582a00</td>\n",
       "      <td>2017-01-01</td>\n",
       "      <td>2017-02-14</td>\n",
       "      <td>14</td>\n",
       "    </tr>\n",
       "    <tr>\n",
       "      <th>4</th>\n",
       "      <td>54f079716d6f6f6a52582a00</td>\n",
       "      <td>2017-02-01</td>\n",
       "      <td>2017-04-21</td>\n",
       "      <td>49</td>\n",
       "    </tr>\n",
       "  </tbody>\n",
       "</table>\n",
       "</div>"
      ],
      "text/plain": [
       "                   party_id  wage_date   epf_date  time_gap\n",
       "0  54f079716d6f6f6a52582a00 2016-10-01 2017-02-14       106\n",
       "1  54f079716d6f6f6a52582a00 2016-11-01 2017-02-14        75\n",
       "2  54f079716d6f6f6a52582a00 2016-12-01 2017-02-14        45\n",
       "3  54f079716d6f6f6a52582a00 2017-01-01 2017-02-14        14\n",
       "4  54f079716d6f6f6a52582a00 2017-02-01 2017-04-21        49"
      ]
     },
     "execution_count": 10,
     "metadata": {},
     "output_type": "execute_result"
    }
   ],
   "source": [
    "# Series of type Timedelta\n",
    "time_period = epf_agg_df['epf_date'] - epf_agg_df['wage_date']\n",
    "\n",
    "# Series of type numpy.int64\n",
    "epf_agg_df['time_gap'] = pd.to_timedelta(time_period, errors='coerce').dt.days - 30\n",
    "\n",
    "epf_agg_df.head()"
   ]
  },
  {
   "cell_type": "markdown",
   "metadata": {},
   "source": [
    "#### Comput epf_compliance of each epf transaction \n",
    "Score is 0 / 1"
   ]
  },
  {
   "cell_type": "code",
   "execution_count": 11,
   "metadata": {},
   "outputs": [
    {
     "data": {
      "text/html": [
       "<div>\n",
       "<style scoped>\n",
       "    .dataframe tbody tr th:only-of-type {\n",
       "        vertical-align: middle;\n",
       "    }\n",
       "\n",
       "    .dataframe tbody tr th {\n",
       "        vertical-align: top;\n",
       "    }\n",
       "\n",
       "    .dataframe thead th {\n",
       "        text-align: right;\n",
       "    }\n",
       "</style>\n",
       "<table border=\"1\" class=\"dataframe\">\n",
       "  <thead>\n",
       "    <tr style=\"text-align: right;\">\n",
       "      <th></th>\n",
       "      <th>party_id</th>\n",
       "      <th>wage_date</th>\n",
       "      <th>epf_date</th>\n",
       "      <th>time_gap</th>\n",
       "      <th>epf_compliance</th>\n",
       "    </tr>\n",
       "  </thead>\n",
       "  <tbody>\n",
       "    <tr>\n",
       "      <th>0</th>\n",
       "      <td>54f079716d6f6f6a52582a00</td>\n",
       "      <td>2016-10-01</td>\n",
       "      <td>2017-02-14</td>\n",
       "      <td>106</td>\n",
       "      <td>0</td>\n",
       "    </tr>\n",
       "    <tr>\n",
       "      <th>1</th>\n",
       "      <td>54f079716d6f6f6a52582a00</td>\n",
       "      <td>2016-11-01</td>\n",
       "      <td>2017-02-14</td>\n",
       "      <td>75</td>\n",
       "      <td>0</td>\n",
       "    </tr>\n",
       "    <tr>\n",
       "      <th>2</th>\n",
       "      <td>54f079716d6f6f6a52582a00</td>\n",
       "      <td>2016-12-01</td>\n",
       "      <td>2017-02-14</td>\n",
       "      <td>45</td>\n",
       "      <td>0</td>\n",
       "    </tr>\n",
       "    <tr>\n",
       "      <th>3</th>\n",
       "      <td>54f079716d6f6f6a52582a00</td>\n",
       "      <td>2017-01-01</td>\n",
       "      <td>2017-02-14</td>\n",
       "      <td>14</td>\n",
       "      <td>1</td>\n",
       "    </tr>\n",
       "    <tr>\n",
       "      <th>4</th>\n",
       "      <td>54f079716d6f6f6a52582a00</td>\n",
       "      <td>2017-02-01</td>\n",
       "      <td>2017-04-21</td>\n",
       "      <td>49</td>\n",
       "      <td>0</td>\n",
       "    </tr>\n",
       "  </tbody>\n",
       "</table>\n",
       "</div>"
      ],
      "text/plain": [
       "                   party_id  wage_date   epf_date  time_gap  epf_compliance\n",
       "0  54f079716d6f6f6a52582a00 2016-10-01 2017-02-14       106               0\n",
       "1  54f079716d6f6f6a52582a00 2016-11-01 2017-02-14        75               0\n",
       "2  54f079716d6f6f6a52582a00 2016-12-01 2017-02-14        45               0\n",
       "3  54f079716d6f6f6a52582a00 2017-01-01 2017-02-14        14               1\n",
       "4  54f079716d6f6f6a52582a00 2017-02-01 2017-04-21        49               0"
      ]
     },
     "execution_count": 11,
     "metadata": {},
     "output_type": "execute_result"
    }
   ],
   "source": [
    "epf_agg_df['epf_compliance'] = np.where(epf_agg_df['time_gap'] > 30, 0, 1)\n",
    "epf_agg_df.head()"
   ]
  },
  {
   "cell_type": "markdown",
   "metadata": {},
   "source": [
    "#### Compute compliance score of each party by taking mean"
   ]
  },
  {
   "cell_type": "code",
   "execution_count": 14,
   "metadata": {},
   "outputs": [
    {
     "data": {
      "text/plain": [
       "party_id\n",
       "54f079716d6f6f6a52582a00    0.684211\n",
       "54f219a56d6f6f1be7939b01    1.000000\n",
       "555074f66d6f6f21df940300    1.000000\n",
       "555075896d6f6f2192660500    0.722222\n",
       "55507eed6d6f6f21923b2600    0.789474\n",
       "55507ef56d6f6f2192572600    1.000000\n",
       "55507f3c6d6f6f2192752700    0.200000\n",
       "555080606d6f6f21df822800    0.000000\n",
       "555086d06d6f6f21dff23700    0.944444\n",
       "555087366d6f6f21df483900    0.555556\n",
       "Name: epf_compliance, dtype: float64"
      ]
     },
     "execution_count": 14,
     "metadata": {},
     "output_type": "execute_result"
    }
   ],
   "source": [
    "compliance_avg = epf_agg_df.groupby(by = ['party_id'])['epf_compliance'].agg('mean')\n",
    "compliance_avg[:10]"
   ]
  },
  {
   "cell_type": "markdown",
   "metadata": {},
   "source": [
    "#### Histogram of freq of parties wrt compliance score"
   ]
  },
  {
   "cell_type": "code",
   "execution_count": 13,
   "metadata": {},
   "outputs": [
    {
     "data": {
      "text/plain": [
       "<matplotlib.axes._subplots.AxesSubplot at 0x99fd0517f0>"
      ]
     },
     "execution_count": 13,
     "metadata": {},
     "output_type": "execute_result"
    },
    {
     "data": {
      "image/png": "[encoded data removed]",
      "text/plain": [
       "<Figure size 432x288 with 1 Axes>"
      ]
     },
     "metadata": {
      "needs_background": "light"
     },
     "output_type": "display_data"
    }
   ],
   "source": [
    "import matplotlib.pyplot as plt\n",
    "%matplotlib inline\n",
    "\n",
    "compliance_avg.plot.hist(bins=20)"
   ]
  },
  {
   "cell_type": "code",
   "execution_count": null,
   "metadata": {},
   "outputs": [],
   "source": []
  }
 ],
 "metadata": {
  "kernelspec": {
   "display_name": "Python 3",
   "language": "python",
   "name": "python3"
  },
  "language_info": {
   "codemirror_mode": {
    "name": "ipython",
    "version": 3
   },
   "file_extension": ".py",
   "mimetype": "text/x-python",
   "name": "python",
   "nbconvert_exporter": "python",
   "pygments_lexer": "ipython3",
   "version": "3.6.6"
  }
 },
 "nbformat": 4,
 "nbformat_minor": 2
}
