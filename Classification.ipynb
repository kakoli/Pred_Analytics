{
 "cells": [
  {
   "cell_type": "markdown",
   "metadata": {},
   "source": [
    "#### [UCI Mushroom Data Set](http://archive.ics.uci.edu/ml/datasets/Mushroom?ref=datanews.io) stored in `mushrooms.csv` is used to train a model to predict whether or not a mushroom is poisonous."
   ]
  },
  {
   "cell_type": "code",
   "execution_count": 1,
   "metadata": {},
   "outputs": [],
   "source": [
    "import pandas as pd\n",
    "import numpy as np\n",
    "import matplotlib.pyplot as plt\n",
    "%matplotlib notebook\n",
    "from sklearn.model_selection import train_test_split\n",
    "\n",
    "def gen_mushroom_data():\n",
    "    # 8123*23\n",
    "    mush_df_cat = pd.read_csv('mushrooms.csv')    \n",
    "    # 8124*119\n",
    "    mush_df = pd.get_dummies(mush_df_cat) # Convert categorical variable into dummy\n",
    "    #print(mush_df_cat.iloc[:5,:10])\n",
    "    #print(mush_df.iloc[:5,:10])\n",
    "    \n",
    "    # (8124*117) all rows, third column onwards, 1st and 2nd col - class_e, class_p\n",
    "    X_mush = mush_df.iloc[:,2:]\n",
    "    y_mush = mush_df.iloc[:,1]     # (8124) all rows, second column only\n",
    "    #print(X_mush.iloc[:5,:10])\n",
    "    \n",
    "    return (train_test_split(X_mush, y_mush, random_state=0))\n",
    "    #return (X_train.to_numpy(), X_test.to_numpy(), y_train.to_numpy(), y_test.to_numpy())\n",
    "\n",
    "# DataFrame X_train : (6093, 117)    X_test : (2031, 117)\n",
    "# Series y_train, y_test\n",
    "(X_train, X_test, y_train, y_test) = gen_mushroom_data()"
   ]
  },
  {
   "cell_type": "markdown",
   "metadata": {},
   "source": [
    "#### Fit  LogisticRegression classifier model with C=0.05\n",
    "Accuracy is 0.997"
   ]
  },
  {
   "cell_type": "code",
   "execution_count": 2,
   "metadata": {},
   "outputs": [
    {
     "name": "stdout",
     "output_type": "stream",
     "text": [
      "[1 0 0 0 0 0 1 1 0 1]\n"
     ]
    },
    {
     "data": {
      "text/plain": [
       "0.9970457902511078"
      ]
     },
     "execution_count": 2,
     "metadata": {},
     "output_type": "execute_result"
    }
   ],
   "source": [
    "from sklearn.linear_model import LogisticRegression\n",
    "\n",
    "clf = LogisticRegression(C=0.05).fit(X_train, y_train)\n",
    "\n",
    "# y_pred of type ndarray\n",
    "y_pred = clf.predict(X_test)\n",
    "print(y_pred[:10])\n",
    "\n",
    "clf.score(X_test, y_test)"
   ]
  },
  {
   "cell_type": "markdown",
   "metadata": {},
   "source": [
    "#### Fit  Naive Bayes classifier model with smoothing alpha=0.1\n",
    "With BernoulliNB, accuracy is 0.968\n",
    "\n",
    "With MultinomialNB, accuracy is 0.983"
   ]
  },
  {
   "cell_type": "code",
   "execution_count": 3,
   "metadata": {},
   "outputs": [
    {
     "data": {
      "text/plain": [
       "0.983751846381093"
      ]
     },
     "execution_count": 3,
     "metadata": {},
     "output_type": "execute_result"
    }
   ],
   "source": [
    "from sklearn.naive_bayes import MultinomialNB, BernoulliNB\n",
    "\n",
    "nb_clf = MultinomialNB(alpha = 0.1).fit(X_train, y_train)\n",
    "nb_clf.score(X_test, y_test)"
   ]
  },
  {
   "cell_type": "markdown",
   "metadata": {},
   "source": [
    "#### Fit  DecisionTree classifier model with max_depth=4\n",
    "Accuracy is 0.991"
   ]
  },
  {
   "cell_type": "code",
   "execution_count": 4,
   "metadata": {},
   "outputs": [
    {
     "name": "stdout",
     "output_type": "stream",
     "text": [
      "DecisionTreeClassifier(ccp_alpha=0.0, class_weight=None, criterion='gini',\n",
      "                       max_depth=4, max_features=None, max_leaf_nodes=None,\n",
      "                       min_impurity_decrease=0.0, min_impurity_split=None,\n",
      "                       min_samples_leaf=1, min_samples_split=2,\n",
      "                       min_weight_fraction_leaf=0.0, presort='deprecated',\n",
      "                       random_state=0, splitter='best')\n"
     ]
    },
    {
     "data": {
      "text/plain": [
       "0.9911373707533235"
      ]
     },
     "execution_count": 4,
     "metadata": {},
     "output_type": "execute_result"
    }
   ],
   "source": [
    "from sklearn.tree import DecisionTreeClassifier\n",
    "\n",
    "tree_clf = DecisionTreeClassifier(max_depth = 4, random_state=0).fit(X_train, y_train)\n",
    "print(tree_clf)\n",
    "\n",
    "tree_clf.score(X_test, y_test)"
   ]
  },
  {
   "cell_type": "markdown",
   "metadata": {},
   "source": [
    "#### Getting the top 5 features from decision tree model"
   ]
  },
  {
   "cell_type": "code",
   "execution_count": 5,
   "metadata": {},
   "outputs": [
    {
     "name": "stdout",
     "output_type": "stream",
     "text": [
      "Printing top 10 features [(0.6392934675800113, 'odor_n'), (0.1730049597724037, 'stalk-root_c'), (0.08854908000205988, 'stalk-root_r'), (0.03515313346821719, 'spore-print-color_r'), (0.02403568227731495, 'odor_l'), (0.017480953689047903, 'stalk-color-above-ring_c'), (0.014046263492472446, 'stalk-surface-below-ring_y'), (0.005760702369927127, 'gill-size_n'), (0.002675757348545448, 'cap-surface_g'), (0.0, 'veil-type_p')]\n"
     ]
    },
    {
     "data": {
      "text/plain": [
       "['odor_n', 'stalk-root_c', 'stalk-root_r', 'spore-print-color_r', 'odor_l']"
      ]
     },
     "execution_count": 5,
     "metadata": {},
     "output_type": "execute_result"
    }
   ],
   "source": [
    "# clf.feature_importances_ is an array of length 117\n",
    "\n",
    "feature_names = X_train.columns.values\n",
    "\n",
    "featureList= list(zip(tree_clf.feature_importances_, feature_names))\n",
    "\n",
    "featureList.sort(reverse=True) # Sorts on the first entry in the tuple\n",
    "print(\"Printing top 10 features\",featureList[:10])\n",
    "\n",
    "[el[1] for el in featureList[:5]]"
   ]
  },
  {
   "cell_type": "markdown",
   "metadata": {},
   "source": [
    "#### Fit  RandomForest classifier model with max_depth=4\n",
    "Accuracy is 0.99"
   ]
  },
  {
   "cell_type": "code",
   "execution_count": 6,
   "metadata": {},
   "outputs": [
    {
     "name": "stdout",
     "output_type": "stream",
     "text": [
      "RandomForestClassifier(bootstrap=True, ccp_alpha=0.0, class_weight=None,\n",
      "                       criterion='gini', max_depth=4, max_features='auto',\n",
      "                       max_leaf_nodes=None, max_samples=None,\n",
      "                       min_impurity_decrease=0.0, min_impurity_split=None,\n",
      "                       min_samples_leaf=1, min_samples_split=2,\n",
      "                       min_weight_fraction_leaf=0.0, n_estimators=100,\n",
      "                       n_jobs=None, oob_score=False, random_state=0, verbose=0,\n",
      "                       warm_start=False)\n"
     ]
    },
    {
     "data": {
      "text/plain": [
       "0.9906450024618415"
      ]
     },
     "execution_count": 6,
     "metadata": {},
     "output_type": "execute_result"
    }
   ],
   "source": [
    "from sklearn.ensemble import RandomForestClassifier\n",
    "\n",
    "forest_clf = RandomForestClassifier(max_depth = 4, random_state=0).fit(X_train, y_train)\n",
    "print(forest_clf)\n",
    "\n",
    "forest_clf.score(X_test, y_test)"
   ]
  },
  {
   "cell_type": "markdown",
   "metadata": {},
   "source": [
    "#### Fit SVM classifier, default kernel 'rbf'\n",
    "With this classifier, explore the effect of gamma parameter (controls kernel width) on classifier accuracy by using validation_curve function.\n",
    "\n",
    "For each level of gamma, validation_curve will fit 3 models on 3 different subsets of the data, returning 6x3 (6 levels of gamma x 3 fits per level) arrays of the scores."
   ]
  },
  {
   "cell_type": "code",
   "execution_count": 7,
   "metadata": {},
   "outputs": [
    {
     "name": "stdout",
     "output_type": "stream",
     "text": [
      "SVC(C=1.0, break_ties=False, cache_size=200, class_weight=None, coef0=0.0,\n",
      "    decision_function_shape='ovr', degree=3, gamma='scale', kernel='rbf',\n",
      "    max_iter=-1, probability=False, random_state=0, shrinking=True, tol=0.001,\n",
      "    verbose=False)\n",
      "[0.56646972 0.93106844 0.990645   1.         1.         1.        ] [0.56720827 0.9300837  0.98966027 1.         0.99458395 0.52240276]\n"
     ]
    }
   ],
   "source": [
    "from sklearn.svm import SVC, LinearSVC\n",
    "from sklearn.model_selection import validation_curve\n",
    "\n",
    "# 0.0001 to 10\n",
    "param_vals = np.logspace(-4,1,6)\n",
    "\n",
    "svm_clf = SVC(random_state=0).fit(X_train, y_train)\n",
    "print(svm_clf)\n",
    "svm_clf.score(X_test, y_test)\n",
    "\n",
    "# validation_curve for 6 gamma and 3 folds\n",
    "# both scores of type ndarray and dim 6*3\n",
    "train_scores, test_scores = validation_curve(svm_clf, X_test, y_test, 'gamma', param_range = param_vals, cv=3)\n",
    "\n",
    "# for each gamma, find the average core\n",
    "mean_train = np.mean(train_scores, axis=1)\n",
    "mean_test = np.mean(test_scores, axis=1)\n",
    "print(mean_train, mean_test)"
   ]
  },
  {
   "cell_type": "markdown",
   "metadata": {},
   "source": [
    "#### Plot the validation scores at each gamma"
   ]
  },
  {
   "cell_type": "code",
   "execution_count": 8,
   "metadata": {},
   "outputs": [
    {
     "data": {
      "text/plain": [
       "<matplotlib.legend.Legend at 0x903df8d68>"
      ]
     },
     "execution_count": 8,
     "metadata": {},
     "output_type": "execute_result"
    },
    {
     "data": {
      "image/png": "[encoded data removed]",
      "text/plain": [
       "<Figure size 432x288 with 1 Axes>"
      ]
     },
     "metadata": {
      "needs_background": "light"
     },
     "output_type": "display_data"
    }
   ],
   "source": [
    "plt.figure()\n",
    "\n",
    "plt.semilogx(param_vals, mean_train, label='Training', color='darkorange')\n",
    "plt.semilogx(param_vals, mean_test, label='Test', color='navy')\n",
    "plt.xlabel('Gamma')\n",
    "plt.ylabel('Validation score');\n",
    "plt.ylim(0.5,1.1)\n",
    "plt.legend(loc='best')"
   ]
  },
  {
   "cell_type": "markdown",
   "metadata": {},
   "source": [
    "#### Based on the scores from validation_curve, what gamma value corresponds to a model that is :\n",
    "* Good fitting (Max. test accuracy)\n",
    "* Overfitting (max diff point, if train_score > test_score)\n",
    "* Underfitting (Min degree before deg_good where both train_score and test_score is +ve)"
   ]
  },
  {
   "cell_type": "code",
   "execution_count": 20,
   "metadata": {},
   "outputs": [
    {
     "name": "stdout",
     "output_type": "stream",
     "text": [
      "Good gamma 3 0.1\n",
      "Overfit gamma 5 10.0\n",
      "Underfit gamma 0 0.0001\n"
     ]
    }
   ],
   "source": [
    "# 0.0001 to 10\n",
    "param_vals = np.logspace(-4,1,6)\n",
    "\n",
    "# gamma_good at which maximum test score occurs\n",
    "max_index = np.argmax(mean_test)    \n",
    "gamma_good = param_vals[max_index]\n",
    "print(\"Good gamma\", max_index, gamma_good)\n",
    "\n",
    "# deg_over : min gamma after gamma_good where diff(train_score, test_score) > 0.2\n",
    "# Here, it is also the max diff point\n",
    "for i in range(max_index+1, 6):\n",
    "    diff_score = mean_train[i]-mean_test[i]\n",
    "    #print(i, diff_score)\n",
    "    if diff_score > 0.2 :            \n",
    "        gamma_over = param_vals[i]\n",
    "        print(\"Overfit gamma\", i, gamma_over)\n",
    "        break\n",
    "    \n",
    "# deg_under : min gamma before gamma_good where both train_score and test_Score is +ve \n",
    "for i in range(0, max_index):\n",
    "    if(mean_test[i] > 0 and mean_train[i] > 0):            \n",
    "        gamma_under = param_vals[i]\n",
    "        print(\"Underfit gamma\", i, gamma_under)\n",
    "        break"
   ]
  },
  {
   "cell_type": "code",
   "execution_count": null,
   "metadata": {},
   "outputs": [],
   "source": []
  }
 ],
 "metadata": {
  "kernelspec": {
   "display_name": "Python 3",
   "language": "python",
   "name": "python3"
  },
  "language_info": {
   "codemirror_mode": {
    "name": "ipython",
    "version": 3
   },
   "file_extension": ".py",
   "mimetype": "text/x-python",
   "name": "python",
   "nbconvert_exporter": "python",
   "pygments_lexer": "ipython3",
   "version": "3.6.6"
  }
 },
 "nbformat": 4,
 "nbformat_minor": 2
}
