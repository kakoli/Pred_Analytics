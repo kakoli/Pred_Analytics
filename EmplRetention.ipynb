{
 "cells": [
  {
   "cell_type": "markdown",
   "metadata": {},
   "source": [
    "### Employee retention score\n",
    "info.json has epf transactions as well as employee names across months for a party. <br>\n",
    "Prepare a model for scores of a party if that company has more number of employees <br>\n",
    "working for a longer period of time."
   ]
  },
  {
   "cell_type": "code",
   "execution_count": 1,
   "metadata": {},
   "outputs": [],
   "source": [
    "import numpy as np\n",
    "import pandas as pd\n",
    "import json\n",
    "from pandas.io.json import json_normalize\n",
    "\n",
    "pd.options.display.max_columns = None\n",
    "#pd.set_option('display.max_columns', 50)"
   ]
  },
  {
   "cell_type": "markdown",
   "metadata": {},
   "source": [
    "#### Reading the 3 json files into dataframe"
   ]
  },
  {
   "cell_type": "code",
   "execution_count": 2,
   "metadata": {},
   "outputs": [
    {
     "name": "stdout",
     "output_type": "stream",
     "text": [
      "Party (14804, 162)\n",
      "Registrations (15000, 48)\n",
      "Informations (148259, 25)\n"
     ]
    }
   ],
   "source": [
    "# deser. from json to python data structure (here, list of dict)\n",
    "lines = [json.loads(line) for line in open('./data/parties.json', 'r', encoding='utf8')]\n",
    "party_df = json_normalize(lines)\n",
    "print(\"Party\", party_df.shape)\n",
    "\n",
    "lines = [json.loads(line) for line in open('./data/registrations.json', 'r', encoding='utf8')]\n",
    "reg_df = json_normalize(lines)\n",
    "print(\"Registrations\", reg_df.shape)\n",
    "\n",
    "lines = [json.loads(line) for line in open('./data/information.json', 'r', encoding='utf8')]\n",
    "info_df = json_normalize(lines)\n",
    "print(\"Informations\", info_df.shape)"
   ]
  },
  {
   "cell_type": "code",
   "execution_count": 3,
   "metadata": {},
   "outputs": [
    {
     "name": "stdout",
     "output_type": "stream",
     "text": [
      "Count of unique parties 14804\n",
      "['54f079716d6f6f6a52582a00' '54f0d8296d6f6f1b7f420500'\n",
      " '54f16d906d6f6f1be73aa400' '54f177716d6f6f1b7fadb100'\n",
      " '54f17ba96d6f6f1c1171b100' '54f1bca16d6f6f1be7be1f01'\n",
      " '54f1d1c46d6f6f1be7533c01' '54f1d5886d6f6f1b7f093401'\n",
      " '54f1d5966d6f6f1be7484201' '54f1fb206d6f6f1b7f836501']\n"
     ]
    }
   ],
   "source": [
    "party_key_col = '_id.$oid'\n",
    "party_ids = party_df[party_key_col].unique()\n",
    "print(\"Count of unique parties\", len(party_ids))\n",
    "print(party_ids[:10])"
   ]
  },
  {
   "cell_type": "markdown",
   "metadata": {},
   "source": [
    "#### Get registration for all companies"
   ]
  },
  {
   "cell_type": "code",
   "execution_count": 4,
   "metadata": {},
   "outputs": [
    {
     "name": "stdout",
     "output_type": "stream",
     "text": [
      "Registrations after filtering (15000, 25)\n",
      "Registration columns Index(['_type', '_ref', '_model_type', 'normalized_name', 'aliases',\n",
      "       'has_anomaly', 'acc', 'city', 'country', 'epfo_office',\n",
      "       'epfo_office_address', 'pin_code', 'primary_business_activity', 'ro',\n",
      "       'section_applicable', 'state', 'version', 'name', 'nationality',\n",
      "       '_id.$oid', 'updated_at.$date', 'party_id.$oid', 'sources.in_gov_epf',\n",
      "       'bots.in_gov_epf_epf_excel_search', 'bots.in_gov_epf_epf_blob_search'],\n",
      "      dtype='object')\n"
     ]
    }
   ],
   "source": [
    "# Drop features  which have > 80% null values\n",
    "percent_null = reg_df.isnull().sum() / len(reg_df)\n",
    "features_to_drop = percent_null[percent_null > 0.8].index\n",
    "\n",
    "# Reg cols dropped from 48 to 25\n",
    "reg_df.drop(features_to_drop, axis=1, inplace=True)\n",
    "print(\"Registrations after filtering\", reg_df.shape)\n",
    "print(\"Registration columns\", reg_df.columns)"
   ]
  },
  {
   "cell_type": "code",
   "execution_count": 5,
   "metadata": {},
   "outputs": [
    {
     "data": {
      "text/html": [
       "<div>\n",
       "<style scoped>\n",
       "    .dataframe tbody tr th:only-of-type {\n",
       "        vertical-align: middle;\n",
       "    }\n",
       "\n",
       "    .dataframe tbody tr th {\n",
       "        vertical-align: top;\n",
       "    }\n",
       "\n",
       "    .dataframe thead th {\n",
       "        text-align: right;\n",
       "    }\n",
       "</style>\n",
       "<table border=\"1\" class=\"dataframe\">\n",
       "  <thead>\n",
       "    <tr style=\"text-align: right;\">\n",
       "      <th></th>\n",
       "      <th>_type</th>\n",
       "      <th>_ref</th>\n",
       "      <th>_model_type</th>\n",
       "      <th>normalized_name</th>\n",
       "      <th>aliases</th>\n",
       "      <th>has_anomaly</th>\n",
       "      <th>acc</th>\n",
       "      <th>city</th>\n",
       "      <th>country</th>\n",
       "      <th>epfo_office</th>\n",
       "      <th>epfo_office_address</th>\n",
       "      <th>pin_code</th>\n",
       "      <th>primary_business_activity</th>\n",
       "      <th>ro</th>\n",
       "      <th>section_applicable</th>\n",
       "      <th>state</th>\n",
       "      <th>version</th>\n",
       "      <th>name</th>\n",
       "      <th>nationality</th>\n",
       "      <th>_id.$oid</th>\n",
       "      <th>updated_at.$date</th>\n",
       "      <th>party_id.$oid</th>\n",
       "      <th>sources.in_gov_epf</th>\n",
       "      <th>bots.in_gov_epf_epf_excel_search</th>\n",
       "      <th>bots.in_gov_epf_epf_blob_search</th>\n",
       "    </tr>\n",
       "  </thead>\n",
       "  <tbody>\n",
       "    <tr>\n",
       "      <th>0</th>\n",
       "      <td>Registration</td>\n",
       "      <td>APHYD0059989000</td>\n",
       "      <td>employee_provident_fund</td>\n",
       "      <td>A RUKMA REDDY (MCH CONTRACTOR)</td>\n",
       "      <td>[A RUKMA REDDY (MCH CONTRACTOR)]</td>\n",
       "      <td>False</td>\n",
       "      <td>ANDHRA PRADESH AND ORISSA</td>\n",
       "      <td>HYDERABAD</td>\n",
       "      <td>India</td>\n",
       "      <td>HYDERABAD</td>\n",
       "      <td>Bhavishyanidhi Bhawan, No. 3-4-763, Barkatpura...</td>\n",
       "      <td>500079</td>\n",
       "      <td>ESTABLISHMENTS ENGAGED IN CLEAING,SWEEPING SER...</td>\n",
       "      <td>AP - HYDERABAD</td>\n",
       "      <td>OTHER ESTABLISHMENTS IN WHICH EMPLOYING 20 OR ...</td>\n",
       "      <td>TELANGANA</td>\n",
       "      <td>1.0</td>\n",
       "      <td>A RUKMA REDDY (MCH CONTRACTOR)</td>\n",
       "      <td>IN</td>\n",
       "      <td>563b52596d6f6f4414000005</td>\n",
       "      <td>2018-07-04T05:04:10.109Z</td>\n",
       "      <td>59dcbdc1cffef63c4be8d56f</td>\n",
       "      <td>2018-07-04 10:34:09 +0530</td>\n",
       "      <td>2018-07-04 10:34:09 +0530</td>\n",
       "      <td>NaN</td>\n",
       "    </tr>\n",
       "    <tr>\n",
       "      <th>1</th>\n",
       "      <td>Registration</td>\n",
       "      <td>APHYD0042162000</td>\n",
       "      <td>employee_provident_fund</td>\n",
       "      <td>ABHIMANYA BAR - RESTARANT</td>\n",
       "      <td>[ABHIMANYA BAR - RESTARANT]</td>\n",
       "      <td>False</td>\n",
       "      <td>ANDHRA PRADESH AND ORISSA</td>\n",
       "      <td>HYDERABAD</td>\n",
       "      <td>India</td>\n",
       "      <td>HYDERABAD</td>\n",
       "      <td>Bhavishyanidhi Bhawan, No. 3-4-763, Barkatpura...</td>\n",
       "      <td>500079</td>\n",
       "      <td>RESTAURANT</td>\n",
       "      <td>AP - HYDERABAD</td>\n",
       "      <td>OTHER ESTABLISHMENTS IN WHICH EMPLOYING 20 OR ...</td>\n",
       "      <td>TELANGANA</td>\n",
       "      <td>1.0</td>\n",
       "      <td>ABHIMANYA BAR - RESTARANT</td>\n",
       "      <td>IN</td>\n",
       "      <td>563b52596d6f6f4414000007</td>\n",
       "      <td>2018-07-03T21:23:37.614Z</td>\n",
       "      <td>59dcbdc1cffef63c4be8d570</td>\n",
       "      <td>2018-07-04 02:53:36 +0530</td>\n",
       "      <td>2018-07-04 02:53:36 +0530</td>\n",
       "      <td>NaN</td>\n",
       "    </tr>\n",
       "    <tr>\n",
       "      <th>2</th>\n",
       "      <td>Registration</td>\n",
       "      <td>APHYD0059671000</td>\n",
       "      <td>employee_provident_fund</td>\n",
       "      <td>AKHIL REDDY ENTERPRISES</td>\n",
       "      <td>[AKHIL REDDY ENTERPRISES]</td>\n",
       "      <td>False</td>\n",
       "      <td>ANDHRA PRADESH AND ORISSA</td>\n",
       "      <td>HYDERABAD</td>\n",
       "      <td>India</td>\n",
       "      <td>HYDERABAD</td>\n",
       "      <td>Bhavishyanidhi Bhawan, No. 3-4-763, Barkatpura...</td>\n",
       "      <td>500079</td>\n",
       "      <td>ENGINEERS - ENGG. CONTRACTORS</td>\n",
       "      <td>AP - HYDERABAD</td>\n",
       "      <td>OTHER ESTABLISHMENTS IN WHICH EMPLOYING 20 OR ...</td>\n",
       "      <td>TELANGANA</td>\n",
       "      <td>1.0</td>\n",
       "      <td>AKHIL REDDY ENTERPRISES</td>\n",
       "      <td>IN</td>\n",
       "      <td>563b52596d6f6f4414000009</td>\n",
       "      <td>2018-07-04T04:31:59.110Z</td>\n",
       "      <td>59dcbdc2cffef63c4be8d574</td>\n",
       "      <td>2018-07-04 10:01:58 +0530</td>\n",
       "      <td>2018-07-04 10:01:58 +0530</td>\n",
       "      <td>NaN</td>\n",
       "    </tr>\n",
       "  </tbody>\n",
       "</table>\n",
       "</div>"
      ],
      "text/plain": [
       "          _type             _ref              _model_type  \\\n",
       "0  Registration  APHYD0059989000  employee_provident_fund   \n",
       "1  Registration  APHYD0042162000  employee_provident_fund   \n",
       "2  Registration  APHYD0059671000  employee_provident_fund   \n",
       "\n",
       "                  normalized_name                           aliases  \\\n",
       "0  A RUKMA REDDY (MCH CONTRACTOR)  [A RUKMA REDDY (MCH CONTRACTOR)]   \n",
       "1       ABHIMANYA BAR - RESTARANT       [ABHIMANYA BAR - RESTARANT]   \n",
       "2         AKHIL REDDY ENTERPRISES         [AKHIL REDDY ENTERPRISES]   \n",
       "\n",
       "   has_anomaly                        acc       city country epfo_office  \\\n",
       "0        False  ANDHRA PRADESH AND ORISSA  HYDERABAD   India   HYDERABAD   \n",
       "1        False  ANDHRA PRADESH AND ORISSA  HYDERABAD   India   HYDERABAD   \n",
       "2        False  ANDHRA PRADESH AND ORISSA  HYDERABAD   India   HYDERABAD   \n",
       "\n",
       "                                 epfo_office_address pin_code  \\\n",
       "0  Bhavishyanidhi Bhawan, No. 3-4-763, Barkatpura...   500079   \n",
       "1  Bhavishyanidhi Bhawan, No. 3-4-763, Barkatpura...   500079   \n",
       "2  Bhavishyanidhi Bhawan, No. 3-4-763, Barkatpura...   500079   \n",
       "\n",
       "                           primary_business_activity              ro  \\\n",
       "0  ESTABLISHMENTS ENGAGED IN CLEAING,SWEEPING SER...  AP - HYDERABAD   \n",
       "1                                         RESTAURANT  AP - HYDERABAD   \n",
       "2                      ENGINEERS - ENGG. CONTRACTORS  AP - HYDERABAD   \n",
       "\n",
       "                                  section_applicable      state  version  \\\n",
       "0  OTHER ESTABLISHMENTS IN WHICH EMPLOYING 20 OR ...  TELANGANA      1.0   \n",
       "1  OTHER ESTABLISHMENTS IN WHICH EMPLOYING 20 OR ...  TELANGANA      1.0   \n",
       "2  OTHER ESTABLISHMENTS IN WHICH EMPLOYING 20 OR ...  TELANGANA      1.0   \n",
       "\n",
       "                             name nationality                  _id.$oid  \\\n",
       "0  A RUKMA REDDY (MCH CONTRACTOR)          IN  563b52596d6f6f4414000005   \n",
       "1       ABHIMANYA BAR - RESTARANT          IN  563b52596d6f6f4414000007   \n",
       "2         AKHIL REDDY ENTERPRISES          IN  563b52596d6f6f4414000009   \n",
       "\n",
       "           updated_at.$date             party_id.$oid  \\\n",
       "0  2018-07-04T05:04:10.109Z  59dcbdc1cffef63c4be8d56f   \n",
       "1  2018-07-03T21:23:37.614Z  59dcbdc1cffef63c4be8d570   \n",
       "2  2018-07-04T04:31:59.110Z  59dcbdc2cffef63c4be8d574   \n",
       "\n",
       "          sources.in_gov_epf bots.in_gov_epf_epf_excel_search  \\\n",
       "0  2018-07-04 10:34:09 +0530        2018-07-04 10:34:09 +0530   \n",
       "1  2018-07-04 02:53:36 +0530        2018-07-04 02:53:36 +0530   \n",
       "2  2018-07-04 10:01:58 +0530        2018-07-04 10:01:58 +0530   \n",
       "\n",
       "  bots.in_gov_epf_epf_blob_search  \n",
       "0                             NaN  \n",
       "1                             NaN  \n",
       "2                             NaN  "
      ]
     },
     "execution_count": 5,
     "metadata": {},
     "output_type": "execute_result"
    }
   ],
   "source": [
    "reg_df.head(3)"
   ]
  },
  {
   "cell_type": "code",
   "execution_count": 6,
   "metadata": {},
   "outputs": [
    {
     "data": {
      "text/plain": [
       "Index(['_ref', '_model_type', 'has_anomaly', 'number', 'credit_date', 'amount',\n",
       "       'wage_month', 'no_of_employees', 'ecr', 'employee_blob', 'reg_ref',\n",
       "       '_id.$oid', 'registration_id.$oid', 'updated_at.$date',\n",
       "       'created_at.$date', 'party_id.$oid', 'sources.in_gov_epf',\n",
       "       'bots.in_gov_epf_epf_excel_search', 'bots.in_gov_epf_epf_blob_search',\n",
       "       'passbook', 'cia_party', 'party_id', 'yes_bank', 'rbl', 'anomalies'],\n",
       "      dtype='object')"
      ]
     },
     "execution_count": 6,
     "metadata": {},
     "output_type": "execute_result"
    }
   ],
   "source": [
    "info_df.columns"
   ]
  },
  {
   "cell_type": "markdown",
   "metadata": {},
   "source": [
    "#### Merging of reg and info data  based on reg_id and info_id"
   ]
  },
  {
   "cell_type": "code",
   "execution_count": 7,
   "metadata": {},
   "outputs": [
    {
     "name": "stdout",
     "output_type": "stream",
     "text": [
      "Merged datframe (157229, 50)\n",
      "Merged columns Index(['_type', '_ref', '_model_type', 'normalized_name', 'aliases',\n",
      "       'has_anomaly', 'acc', 'city', 'country', 'epfo_office',\n",
      "       'epfo_office_address', 'pin_code', 'primary_business_activity', 'ro',\n",
      "       'section_applicable', 'state', 'version', 'name', 'nationality',\n",
      "       '_id.$oid', 'updated_at.$date', 'party_id.$oid', 'sources.in_gov_epf',\n",
      "       'bots.in_gov_epf_epf_excel_search', 'bots.in_gov_epf_epf_blob_search',\n",
      "       '_ref_y', '_model_type_y', 'has_anomaly_y', 'number', 'credit_date',\n",
      "       'amount', 'wage_month', 'no_of_employees', 'ecr', 'employee_blob',\n",
      "       'reg_ref', '_id.$oid_y', 'registration_id.$oid', 'updated_at.$date_y',\n",
      "       'created_at.$date', 'party_id.$oid_y', 'sources.in_gov_epf_y',\n",
      "       'bots.in_gov_epf_epf_excel_search_y',\n",
      "       'bots.in_gov_epf_epf_blob_search_y', 'passbook', 'cia_party',\n",
      "       'party_id', 'yes_bank', 'rbl', 'anomalies'],\n",
      "      dtype='object')\n"
     ]
    }
   ],
   "source": [
    "#reg_info_df = pd.merge(reg_df, info_df, how='outer', left_on=['party_id.$oid', '_id.$oid'], right_on=['party_id.$oid', 'registration_id.$oid'], suffixes=('','_y'))\n",
    "reg_info_df = pd.merge(reg_df, info_df, how='outer', left_on='_id.$oid', right_on='registration_id.$oid', suffixes=('','_y'))\n",
    "\n",
    "print(\"Merged datframe\", reg_info_df.shape)\n",
    "print(\"Merged columns\", reg_info_df.columns)"
   ]
  },
  {
   "cell_type": "markdown",
   "metadata": {},
   "source": [
    "#### Select columns for employee retention"
   ]
  },
  {
   "cell_type": "code",
   "execution_count": 8,
   "metadata": {
    "scrolled": true
   },
   "outputs": [
    {
     "name": "stdout",
     "output_type": "stream",
     "text": [
      "Merged datframe with selected columns (148259, 3) Index(['party_id', 'wage_month', 'no_of_employees'], dtype='object')\n"
     ]
    }
   ],
   "source": [
    "cols_to_keep = ['party_id.$oid', 'wage_month', 'no_of_employees']\n",
    "                #'_id.$oid', 'credit_date',              \n",
    "emp_df = reg_info_df.filter(cols_to_keep, axis=1)\n",
    "\n",
    "emp_df.rename(columns = {'party_id.$oid':'party_id'}, inplace = True)\n",
    "# 5.7% data was missing\n",
    "emp_df.dropna(subset=['no_of_employees', 'wage_month'], inplace=True)\n",
    "print(\"Merged datframe with selected columns\", emp_df.shape, emp_df.columns)"
   ]
  },
  {
   "cell_type": "markdown",
   "metadata": {},
   "source": [
    "#### Converting datatypes of columns\n",
    "'wage_month' having diff. date formats to common format of type datetime.datetime <br>\n",
    "'no_of_employees' from str to int"
   ]
  },
  {
   "cell_type": "code",
   "execution_count": 9,
   "metadata": {},
   "outputs": [],
   "source": [
    "from datetime import datetime\n",
    "\n",
    "def format_convert_col(str_list):\n",
    "    dates = []\n",
    "    \n",
    "    for s in str_list:\n",
    "        if s.find('-') != -1:\n",
    "            d = datetime.strptime(s, '%b-%y')\n",
    "            #print(\"if\", d)\n",
    "        else:\n",
    "            d = datetime.strptime(s, '%m%Y')\n",
    "            #print(\"else\", d)\n",
    "        dates.append(d)\n",
    "    return dates"
   ]
  },
  {
   "cell_type": "code",
   "execution_count": 10,
   "metadata": {},
   "outputs": [
    {
     "name": "stdout",
     "output_type": "stream",
     "text": [
      "148259 <class 'datetime.datetime'>\n"
     ]
    }
   ],
   "source": [
    "datesList = format_convert_col( emp_df['wage_month'].tolist() )\n",
    "print(len(datesList), type(datesList[0]))\n",
    "\n",
    "emp_df['wage_date'] = datesList\n",
    "emp_df.drop(['wage_month'], axis=1, inplace=True)\n",
    "\n",
    "emp_df['no_of_employees'] = emp_df['no_of_employees'].astype(int)"
   ]
  },
  {
   "cell_type": "markdown",
   "metadata": {},
   "source": [
    "- <b>Sort on some columns\n",
    "- Set index </b>\n",
    "Can be run once"
   ]
  },
  {
   "cell_type": "code",
   "execution_count": 11,
   "metadata": {},
   "outputs": [
    {
     "name": "stdout",
     "output_type": "stream",
     "text": [
      "INDEX ['party_id', 'wage_date']\n",
      "Index(['no_of_employees'], dtype='object')\n"
     ]
    },
    {
     "data": {
      "text/html": [
       "<div>\n",
       "<style scoped>\n",
       "    .dataframe tbody tr th:only-of-type {\n",
       "        vertical-align: middle;\n",
       "    }\n",
       "\n",
       "    .dataframe tbody tr th {\n",
       "        vertical-align: top;\n",
       "    }\n",
       "\n",
       "    .dataframe thead th {\n",
       "        text-align: right;\n",
       "    }\n",
       "</style>\n",
       "<table border=\"1\" class=\"dataframe\">\n",
       "  <thead>\n",
       "    <tr style=\"text-align: right;\">\n",
       "      <th></th>\n",
       "      <th></th>\n",
       "      <th>no_of_employees</th>\n",
       "    </tr>\n",
       "    <tr>\n",
       "      <th>party_id</th>\n",
       "      <th>wage_date</th>\n",
       "      <th></th>\n",
       "    </tr>\n",
       "  </thead>\n",
       "  <tbody>\n",
       "    <tr>\n",
       "      <th rowspan=\"2\" valign=\"top\">5559286e6d6f6f270e4f6d05</th>\n",
       "      <th>2016-12-01</th>\n",
       "      <td>111</td>\n",
       "    </tr>\n",
       "    <tr>\n",
       "      <th>2016-12-01</th>\n",
       "      <td>29751</td>\n",
       "    </tr>\n",
       "  </tbody>\n",
       "</table>\n",
       "</div>"
      ],
      "text/plain": [
       "                                     no_of_employees\n",
       "party_id                 wage_date                  \n",
       "5559286e6d6f6f270e4f6d05 2016-12-01              111\n",
       "                         2016-12-01            29751"
      ]
     },
     "execution_count": 11,
     "metadata": {},
     "output_type": "execute_result"
    }
   ],
   "source": [
    "emp_df.sort_values(by=['party_id', 'wage_date'], inplace=True)\n",
    "emp_df.set_index(['party_id', 'wage_date'], inplace=True)\n",
    "\n",
    "print(\"INDEX\", emp_df.index.names)\n",
    "print(emp_df.columns)\n",
    "\n",
    "emp_df.loc['5559286e6d6f6f270e4f6d05', '2016-12-01']"
   ]
  },
  {
   "cell_type": "markdown",
   "metadata": {},
   "source": [
    "#### Employee count on monthly basis\n",
    "There are multiple entries for a (party, wage_date), as seen above"
   ]
  },
  {
   "cell_type": "code",
   "execution_count": 12,
   "metadata": {},
   "outputs": [
    {
     "name": "stdout",
     "output_type": "stream",
     "text": [
      "['party_id', 'wage_date']\n"
     ]
    },
    {
     "data": {
      "text/plain": [
       "29862"
      ]
     },
     "execution_count": 12,
     "metadata": {},
     "output_type": "execute_result"
    }
   ],
   "source": [
    "# aggSeries of type Series of size 111584, reduced from 148259\n",
    "aggSeries = emp_df.groupby(by = ['party_id', 'wage_date'])['no_of_employees'].agg(np.sum)\n",
    "print(aggSeries.index.names)\n",
    "aggSeries.loc['5559286e6d6f6f270e4f6d05', '2016-12-01']"
   ]
  },
  {
   "cell_type": "markdown",
   "metadata": {},
   "source": [
    "#### aggSeries converted to dataframe without index"
   ]
  },
  {
   "cell_type": "code",
   "execution_count": 13,
   "metadata": {
    "scrolled": false
   },
   "outputs": [
    {
     "name": "stdout",
     "output_type": "stream",
     "text": [
      "(111584, 3) [None]\n",
      "Index(['party_id', 'wage_date', 'no_of_employees'], dtype='object')\n"
     ]
    }
   ],
   "source": [
    "emp_agg_df = aggSeries.to_frame()\n",
    "emp_agg_df.reset_index(inplace=True)\n",
    "\n",
    "print(emp_agg_df.shape, emp_agg_df.index.names)\n",
    "print( emp_agg_df.columns)\n",
    "emp_agg_df.to_csv(\"emp_agg.csv\")"
   ]
  },
  {
   "cell_type": "markdown",
   "metadata": {},
   "source": [
    "#### Computation of aggregate values"
   ]
  },
  {
   "cell_type": "code",
   "execution_count": 14,
   "metadata": {},
   "outputs": [
    {
     "name": "stdout",
     "output_type": "stream",
     "text": [
      "party_id\n",
      "54f079716d6f6f6a52582a00   2018-05-01\n",
      "54f219a56d6f6f1be7939b01   2018-05-01\n",
      "555074f66d6f6f21df940300   2018-05-01\n",
      "555075896d6f6f2192660500   2018-05-01\n",
      "55507eed6d6f6f21923b2600   2018-05-01\n",
      "Name: wage_date, dtype: datetime64[ns]\n"
     ]
    },
    {
     "data": {
      "text/plain": [
       "(29862, 25138)"
      ]
     },
     "execution_count": 14,
     "metadata": {},
     "output_type": "execute_result"
    }
   ],
   "source": [
    "# All agg series have party_id as index(from group_by)\n",
    "aggMinDate = emp_agg_df.groupby(by = ['party_id'])['wage_date'].agg(np.min)\n",
    "aggMaxDate = emp_agg_df.groupby(by = ['party_id'])['wage_date'].agg(np.max)\n",
    "\n",
    "assert aggMinDate.shape == aggMaxDate.shape\n",
    "assert aggMinDate.index.name == aggMaxDate.index.name\n",
    "print(aggMaxDate[:5])\n",
    "\n",
    "aggMinEmp = emp_agg_df.groupby(by = ['party_id'])['no_of_employees'].agg('first')\n",
    "aggMaxEmp = emp_agg_df.groupby(by = ['party_id'])['no_of_employees'].agg('last')\n",
    "assert aggMinEmp.shape == aggMaxEmp.shape\n",
    "assert aggMinEmp.index.name == aggMaxEmp.index.name\n",
    "\n",
    "aggMinEmp.loc['5559286e6d6f6f270e4f6d05'], aggMaxEmp.loc['5559286e6d6f6f270e4f6d05']"
   ]
  },
  {
   "cell_type": "markdown",
   "metadata": {},
   "source": [
    "#### Creating new dataframe using the aggregated values"
   ]
  },
  {
   "cell_type": "code",
   "execution_count": 15,
   "metadata": {},
   "outputs": [
    {
     "name": "stdout",
     "output_type": "stream",
     "text": [
      "(5993, 4) Index: party_id\n",
      "Index(['start_date', 'end_date', 'emp_cnt_start', 'emp_cnt_end'], dtype='object')\n"
     ]
    },
    {
     "data": {
      "text/plain": [
       "start_date       2016-12-01 00:00:00\n",
       "end_date         2018-05-01 00:00:00\n",
       "emp_cnt_start                  29862\n",
       "emp_cnt_end                    25138\n",
       "Name: 5559286e6d6f6f270e4f6d05, dtype: object"
      ]
     },
     "execution_count": 15,
     "metadata": {},
     "output_type": "execute_result"
    }
   ],
   "source": [
    "party_emp_df = aggMinDate.to_frame()\n",
    "party_emp_df.rename(columns={'wage_date':'start_date'}, inplace=True)\n",
    "\n",
    "party_emp_df['end_date'] = aggMaxDate.tolist() # Assigning series not working\n",
    "\n",
    "party_emp_df['emp_cnt_start'] = aggMinEmp.tolist()\n",
    "party_emp_df['emp_cnt_end'] = aggMaxEmp.tolist()\n",
    "\n",
    "print(party_emp_df.shape, \"Index:\", party_emp_df.index.name)\n",
    "print(party_emp_df.columns)\n",
    "\n",
    "party_emp_df.loc['5559286e6d6f6f270e4f6d05']"
   ]
  },
  {
   "cell_type": "markdown",
   "metadata": {},
   "source": [
    "#### Add 2 columns:\n",
    "Change in emp <br>\n",
    "Time period of the data"
   ]
  },
  {
   "cell_type": "code",
   "execution_count": 16,
   "metadata": {},
   "outputs": [
    {
     "name": "stdout",
     "output_type": "stream",
     "text": [
      "Max dec. of emp 5568c29d6d6f6f263ac89a08 20808\n"
     ]
    }
   ],
   "source": [
    "#For inc. in emp, diff is set to 0\n",
    "emp_diff = np.where(party_emp_df['emp_cnt_end'] >= party_emp_df['emp_cnt_start'], 0,\n",
    "                    party_emp_df['emp_cnt_start'] - party_emp_df['emp_cnt_end'])\n",
    "party_emp_df['emp_diff'] = emp_diff\n",
    "emp_range = party_emp_df['emp_diff'].max() - party_emp_df['emp_diff'].min()\n",
    "print(\"Max dec. of emp\", party_emp_df['emp_diff'].idxmax(), party_emp_df['emp_diff'].max())\n",
    "\n",
    "# period is a Series of timedeltas.Timedelta\n",
    "time_period = party_emp_df['end_date'] - party_emp_df['start_date']\n",
    "# Series of int\n",
    "party_emp_df['time_period'] = pd.to_timedelta(time_period, errors='coerce').dt.days"
   ]
  },
  {
   "cell_type": "markdown",
   "metadata": {},
   "source": [
    "#### Score = emp_diff/emp_diff_range\n",
    "score is between 0 and 1"
   ]
  },
  {
   "cell_type": "code",
   "execution_count": 17,
   "metadata": {},
   "outputs": [
    {
     "name": "stdout",
     "output_type": "stream",
     "text": [
      "0.0\n",
      "0.7729719338715879\n"
     ]
    },
    {
     "data": {
      "text/plain": [
       "start_date       2016-12-01 00:00:00\n",
       "end_date         2018-05-01 00:00:00\n",
       "emp_cnt_start                  29862\n",
       "emp_cnt_end                    25138\n",
       "emp_diff                        4724\n",
       "time_period                      516\n",
       "score                       0.772972\n",
       "Name: 5559286e6d6f6f270e4f6d05, dtype: object"
      ]
     },
     "execution_count": 17,
     "metadata": {},
     "output_type": "execute_result"
    }
   ],
   "source": [
    "party_emp_df['score'] = 1 - party_emp_df['emp_diff']/emp_range\n",
    "print(party_emp_df.loc['5568c29d6d6f6f263ac89a08', 'score'])\n",
    "print(party_emp_df.loc['5559286e6d6f6f270e4f6d05', 'score'])\n",
    "\n",
    "party_emp_df.head()\n",
    "\n",
    "party_emp_df.loc['5559286e6d6f6f270e4f6d05']"
   ]
  },
  {
   "cell_type": "markdown",
   "metadata": {},
   "source": [
    "#### Score = time_period/emp_diff\n",
    "rel_score is between 0 and 1\n",
    "\n",
    "The histogram of employee score of parties shows most parties @ score 0."
   ]
  },
  {
   "cell_type": "code",
   "execution_count": 18,
   "metadata": {},
   "outputs": [
    {
     "name": "stdout",
     "output_type": "stream",
     "text": [
      "5993 [  1.   86.  129.   64.5   1.    1.    1.    1.    1.  172. ]\n",
      "Min: 0.045271049596309114 Max: 2527.0\n",
      "emp_diff    20808\n",
      "score           0\n",
      "Name: 5568c29d6d6f6f263ac89a08, dtype: object\n",
      "\n",
      "emp_diff    1\n",
      "score       1\n",
      "Name: 59df5168cffef644dd44f492, dtype: object\n"
     ]
    }
   ],
   "source": [
    "score_df = party_emp_df.copy()\n",
    "\n",
    "# emp_diff is only 0 or +ve\n",
    "assert score_df[score_df['emp_diff'] < 0].shape[0] == 0\n",
    "\n",
    "scoreList = np.where(score_df['emp_diff'] > 0, score_df['time_period']/score_df['emp_diff'], 1)\n",
    "print(len(scoreList), scoreList[:10])\n",
    "\n",
    "score_range = scoreList.max() - scoreList.min()\n",
    "print(\"Min:\", scoreList.min(), \"Max:\", scoreList.max())\n",
    "\n",
    "score_df['score'] = np.where(score_df['emp_diff'] > 0, np.around(scoreList/score_range, decimals=3), 1)\n",
    "#np.around(scoreList/score_range, decimals=3)\n",
    "#score_df['score'] = scoreList/score_range\n",
    "\n",
    "print(score_df.loc['5568c29d6d6f6f263ac89a08', ['emp_diff', 'score']])\n",
    "print()\n",
    "print(score_df.loc['59df5168cffef644dd44f492', ['emp_diff', 'score']])"
   ]
  },
  {
   "cell_type": "code",
   "execution_count": 19,
   "metadata": {},
   "outputs": [
    {
     "data": {
      "text/html": [
       "<div>\n",
       "<style scoped>\n",
       "    .dataframe tbody tr th:only-of-type {\n",
       "        vertical-align: middle;\n",
       "    }\n",
       "\n",
       "    .dataframe tbody tr th {\n",
       "        vertical-align: top;\n",
       "    }\n",
       "\n",
       "    .dataframe thead th {\n",
       "        text-align: right;\n",
       "    }\n",
       "</style>\n",
       "<table border=\"1\" class=\"dataframe\">\n",
       "  <thead>\n",
       "    <tr style=\"text-align: right;\">\n",
       "      <th></th>\n",
       "      <th>emp_diff</th>\n",
       "      <th>time_period</th>\n",
       "      <th>score</th>\n",
       "    </tr>\n",
       "    <tr>\n",
       "      <th>party_id</th>\n",
       "      <th></th>\n",
       "      <th></th>\n",
       "      <th></th>\n",
       "    </tr>\n",
       "  </thead>\n",
       "  <tbody>\n",
       "    <tr>\n",
       "      <th>54f079716d6f6f6a52582a00</th>\n",
       "      <td>0</td>\n",
       "      <td>577</td>\n",
       "      <td>1.000</td>\n",
       "    </tr>\n",
       "    <tr>\n",
       "      <th>54f219a56d6f6f1be7939b01</th>\n",
       "      <td>6</td>\n",
       "      <td>516</td>\n",
       "      <td>0.034</td>\n",
       "    </tr>\n",
       "    <tr>\n",
       "      <th>555074f66d6f6f21df940300</th>\n",
       "      <td>4</td>\n",
       "      <td>516</td>\n",
       "      <td>0.051</td>\n",
       "    </tr>\n",
       "    <tr>\n",
       "      <th>555075896d6f6f2192660500</th>\n",
       "      <td>8</td>\n",
       "      <td>516</td>\n",
       "      <td>0.026</td>\n",
       "    </tr>\n",
       "    <tr>\n",
       "      <th>55507eed6d6f6f21923b2600</th>\n",
       "      <td>0</td>\n",
       "      <td>546</td>\n",
       "      <td>1.000</td>\n",
       "    </tr>\n",
       "  </tbody>\n",
       "</table>\n",
       "</div>"
      ],
      "text/plain": [
       "                          emp_diff  time_period  score\n",
       "party_id                                              \n",
       "54f079716d6f6f6a52582a00         0          577  1.000\n",
       "54f219a56d6f6f1be7939b01         6          516  0.034\n",
       "555074f66d6f6f21df940300         4          516  0.051\n",
       "555075896d6f6f2192660500         8          516  0.026\n",
       "55507eed6d6f6f21923b2600         0          546  1.000"
      ]
     },
     "execution_count": 19,
     "metadata": {},
     "output_type": "execute_result"
    }
   ],
   "source": [
    "score_df.drop(['start_date', 'end_date', 'emp_cnt_start', 'emp_cnt_end'], axis=1,  inplace=True)\n",
    "score_df.to_csv(\"emp_score.csv\")\n",
    "score_df.head()"
   ]
  },
  {
   "cell_type": "markdown",
   "metadata": {},
   "source": [
    "#### Histogram - freq of score of companies "
   ]
  },
  {
   "cell_type": "code",
   "execution_count": 20,
   "metadata": {},
   "outputs": [
    {
     "name": "stdout",
     "output_type": "stream",
     "text": [
      "0.613716669447689 0.46069746583213644\n"
     ]
    },
    {
     "data": {
      "text/plain": [
       "<matplotlib.axes._subplots.AxesSubplot at 0xbab8b4c048>"
      ]
     },
     "execution_count": 20,
     "metadata": {},
     "output_type": "execute_result"
    },
    {
     "data": {
      "image/png": "[encoded data removed]",
      "text/plain": [
       "<Figure size 432x288 with 1 Axes>"
      ]
     },
     "metadata": {
      "needs_background": "light"
     },
     "output_type": "display_data"
    }
   ],
   "source": [
    "import matplotlib.pyplot as plt\n",
    "%matplotlib inline\n",
    "\n",
    "print(score_df['score'].mean(), score_df['score'].std())\n",
    "score_df['score'].plot.hist(bins=100)"
   ]
  },
  {
   "cell_type": "markdown",
   "metadata": {},
   "source": [
    "#### Score = f(emp_diff / time_period)\n",
    "rel_score is between 0 and 1\n",
    "\n",
    "The histogram here is more skewed with most parties @ score 1."
   ]
  },
  {
   "cell_type": "code",
   "execution_count": 21,
   "metadata": {},
   "outputs": [
    {
     "name": "stdout",
     "output_type": "stream",
     "text": [
      "Min: 0.0 Max: 22.089171974522294\n",
      "score    0\n",
      "Name: 5568c29d6d6f6f263ac89a08, dtype: object\n",
      "\n",
      "score    1\n",
      "Name: 59df5168cffef644dd44f492, dtype: object\n"
     ]
    }
   ],
   "source": [
    "score_df2 = party_emp_df.copy()\n",
    "scoreList = score_df2['emp_diff']/score_df2['time_period']\n",
    "\n",
    "score_range = scoreList.max() - scoreList.min()\n",
    "print(\"Min:\", scoreList.min(), \"Max:\", scoreList.max())\n",
    "\n",
    "score_df2['score'] = round(1 - scoreList/score_range, 3)\n",
    "\n",
    "print(score_df2.loc['5568c29d6d6f6f263ac89a08', ['score']])\n",
    "print()\n",
    "print(score_df2.loc['59df5168cffef644dd44f492', ['score']])"
   ]
  },
  {
   "cell_type": "code",
   "execution_count": 22,
   "metadata": {},
   "outputs": [
    {
     "data": {
      "text/html": [
       "<div>\n",
       "<style scoped>\n",
       "    .dataframe tbody tr th:only-of-type {\n",
       "        vertical-align: middle;\n",
       "    }\n",
       "\n",
       "    .dataframe tbody tr th {\n",
       "        vertical-align: top;\n",
       "    }\n",
       "\n",
       "    .dataframe thead th {\n",
       "        text-align: right;\n",
       "    }\n",
       "</style>\n",
       "<table border=\"1\" class=\"dataframe\">\n",
       "  <thead>\n",
       "    <tr style=\"text-align: right;\">\n",
       "      <th></th>\n",
       "      <th>emp_diff</th>\n",
       "      <th>time_period</th>\n",
       "      <th>score</th>\n",
       "    </tr>\n",
       "    <tr>\n",
       "      <th>party_id</th>\n",
       "      <th></th>\n",
       "      <th></th>\n",
       "      <th></th>\n",
       "    </tr>\n",
       "  </thead>\n",
       "  <tbody>\n",
       "    <tr>\n",
       "      <th>54f079716d6f6f6a52582a00</th>\n",
       "      <td>0</td>\n",
       "      <td>577</td>\n",
       "      <td>1.000</td>\n",
       "    </tr>\n",
       "    <tr>\n",
       "      <th>54f219a56d6f6f1be7939b01</th>\n",
       "      <td>6</td>\n",
       "      <td>516</td>\n",
       "      <td>0.999</td>\n",
       "    </tr>\n",
       "    <tr>\n",
       "      <th>555074f66d6f6f21df940300</th>\n",
       "      <td>4</td>\n",
       "      <td>516</td>\n",
       "      <td>1.000</td>\n",
       "    </tr>\n",
       "    <tr>\n",
       "      <th>555075896d6f6f2192660500</th>\n",
       "      <td>8</td>\n",
       "      <td>516</td>\n",
       "      <td>0.999</td>\n",
       "    </tr>\n",
       "    <tr>\n",
       "      <th>55507eed6d6f6f21923b2600</th>\n",
       "      <td>0</td>\n",
       "      <td>546</td>\n",
       "      <td>1.000</td>\n",
       "    </tr>\n",
       "  </tbody>\n",
       "</table>\n",
       "</div>"
      ],
      "text/plain": [
       "                          emp_diff  time_period  score\n",
       "party_id                                              \n",
       "54f079716d6f6f6a52582a00         0          577  1.000\n",
       "54f219a56d6f6f1be7939b01         6          516  0.999\n",
       "555074f66d6f6f21df940300         4          516  1.000\n",
       "555075896d6f6f2192660500         8          516  0.999\n",
       "55507eed6d6f6f21923b2600         0          546  1.000"
      ]
     },
     "execution_count": 22,
     "metadata": {},
     "output_type": "execute_result"
    }
   ],
   "source": [
    "score_df2.drop(['start_date', 'end_date', 'emp_cnt_start', 'emp_cnt_end'], axis=1,  inplace=True)\n",
    "score_df2.head()"
   ]
  },
  {
   "cell_type": "code",
   "execution_count": 26,
   "metadata": {},
   "outputs": [
    {
     "name": "stdout",
     "output_type": "stream",
     "text": [
      "0.9980791463619559 0.023735771401921804\n"
     ]
    },
    {
     "data": {
      "text/plain": [
       "<matplotlib.axes._subplots.AxesSubplot at 0xbabd6dbf28>"
      ]
     },
     "execution_count": 26,
     "metadata": {},
     "output_type": "execute_result"
    },
    {
     "data": {
      "image/png": "[encoded data removed]",
      "text/plain": [
       "<Figure size 432x288 with 1 Axes>"
      ]
     },
     "metadata": {
      "needs_background": "light"
     },
     "output_type": "display_data"
    }
   ],
   "source": [
    "print(score_df2['score'].mean(), score_df2['score'].std())\n",
    "score_df2['score'].plot.hist(bins=50)"
   ]
  },
  {
   "cell_type": "code",
   "execution_count": null,
   "metadata": {},
   "outputs": [],
   "source": []
  }
 ],
 "metadata": {
  "kernelspec": {
   "display_name": "Python 3",
   "language": "python",
   "name": "python3"
  },
  "language_info": {
   "codemirror_mode": {
    "name": "ipython",
    "version": 3
   },
   "file_extension": ".py",
   "mimetype": "text/x-python",
   "name": "python",
   "nbconvert_exporter": "python",
   "pygments_lexer": "ipython3",
   "version": "3.6.6"
  }
 },
 "nbformat": 4,
 "nbformat_minor": 2
}
